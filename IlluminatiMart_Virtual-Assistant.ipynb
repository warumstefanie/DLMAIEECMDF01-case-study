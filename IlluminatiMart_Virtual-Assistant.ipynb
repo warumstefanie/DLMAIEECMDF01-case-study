{
 "cells": [
  {
   "cell_type": "markdown",
   "id": "0c2bd8bd-5e63-4d0c-954b-2b4ad0620aa7",
   "metadata": {},
   "source": [
    " # Case Study: Virtual Assistant for IlluminatiMart"
   ]
  },
  {
   "cell_type": "markdown",
   "id": "aeb932ad-b3f7-40c9-80f6-62b7b85603fe",
   "metadata": {},
   "source": [
    "This Jupyter Notebook demonstrates the implementation of the Illuminati Assistant, a virtual assistant designed for IlluminatiMart, an AI-driven online grocery platform. The purpose of this chatbot is to enhance the customer shopping experience by offering personalized assistance. It helps users by answering queries, guiding them through product searches, and providing relevant product recommendations based on customer preferences and previous shopping behavior. This notebook outlines the chatbot's development process, including the integration of natural language processing (NLP) techniques to ensure accurate, context-aware interactions."
   ]
  },
  {
   "cell_type": "code",
   "execution_count": 2,
   "id": "ab2ee024-d614-4698-94ed-be25248aa263",
   "metadata": {},
   "outputs": [
    {
     "name": "stdout",
     "output_type": "stream",
     "text": [
      "* Running on local URL:  http://127.0.0.1:7861\n",
      "\n",
      "To create a public link, set `share=True` in `launch()`.\n"
     ]
    },
    {
     "data": {
      "text/html": [
       "<div><iframe src=\"http://127.0.0.1:7861/\" width=\"100%\" height=\"500\" allow=\"autoplay; camera; microphone; clipboard-read; clipboard-write;\" frameborder=\"0\" allowfullscreen></iframe></div>"
      ],
      "text/plain": [
       "<IPython.core.display.HTML object>"
      ]
     },
     "metadata": {},
     "output_type": "display_data"
    },
    {
     "data": {
      "text/plain": []
     },
     "execution_count": 2,
     "metadata": {},
     "output_type": "execute_result"
    }
   ],
   "source": [
    "import os\n",
    "from openai import OpenAI\n",
    "import gradio as gr\n",
    "\n",
    "client = OpenAI(api_key=os.environ[\"OPENAI\"])\n",
    "\n",
    "# Initialize the chat history with the system message\n",
    "initial_history = [\n",
    "    {\n",
    "        \"role\": \"system\", \n",
    "        \"content\": \"You are a helpful virtual assistant - Illuminati Assistant - for the online grocery store IlluminatiMart. You can answer questions regarding IlluminatiMart's online groceries, products, checkout, purchase, shipment, return policies, and so on. Any question that is not related to this topic, answer politely that you have no knowledge about the topic. If you make a mistake, you apologize that you are only a virtual assistant and you can give the contact details of the customer support.\"\n",
    "    }\n",
    "]\n",
    "\n",
    "def openai_chatbot(message, history):\n",
    "    # If a user message is passed, append it to the history\n",
    "    if message:\n",
    "        history.append({\"role\": \"user\", \"content\": message})\n",
    "    \n",
    "    # Create the response using OpenAI's GPT-4\n",
    "    response = client.chat.completions.create(\n",
    "        model=\"gpt-4-turbo\",\n",
    "        messages=history\n",
    "    )\n",
    "    \n",
    "    # Extract the assistant's message from the response\n",
    "    assistant_message = response.choices[0].message.content\n",
    "    \n",
    "    # Append the assistant's message to the history\n",
    "    history.append({\"role\": \"assistant\", \"content\": assistant_message})\n",
    "    \n",
    "    return assistant_message, history\n",
    "\n",
    "# Create the Gradio interface\n",
    "with gr.Blocks() as demo:\n",
    "    gr.Markdown(\"# Olivia 🍃 - Your personal AI-Assistant by IlluminatiMart\")\n",
    "    chatbot = gr.Chatbot(type=\"messages\")  # Set type to 'messages'\n",
    "    msg = gr.Textbox(placeholder=\"Type your message to Olivia here...\")\n",
    "    \n",
    "    gr.Markdown(\n",
    "        \"\"\"\n",
    "        **Disclaimer:** This is an AI-powered assistant by IlluminatiMart. I can make mistakes, please double-check any information before purchase decisions. Please do not share personal or sensitive information. \n",
    "        For urgent matters, contact customer support directly.\n",
    "        \"\"\"\n",
    "    )\n",
    "    \n",
    "    clear = gr.Button(\"Clear\")\n",
    "\n",
    "    # Automatically generate the introduction message when the chat is loaded\n",
    "    def init_chat():\n",
    "        assistant_intro = \"Hello and welcome! I'm Olivia 🍃, your personal AI-powered virtual assistant from IlluminatiMart. I'm here to assist you with anything related to your shopping experience 🛒. I can help you: 1️⃣ finding products, 2️⃣ check orders, or 3️⃣ answer your questions. My goal is to make your online grocery shopping more convenient and personalized 🤩. How can I assist you today?\"\n",
    "        history = initial_history.copy()  # Initialize history with the system message\n",
    "        history.append({\"role\": \"assistant\", \"content\": assistant_intro})  # Assistant introduces itself\n",
    "        return history, [{\"role\": \"assistant\", \"content\": assistant_intro}]  # Return the updated history and the initial message for the chatbot\n",
    "\n",
    "    def respond(message, chat_history):\n",
    "        response, updated_history = openai_chatbot(message, chat_history)\n",
    "        return \"\", updated_history, updated_history\n",
    "\n",
    "    # Initialize the chat with the assistant's introduction\n",
    "    history_state = gr.State(value=[])  # Create a state for the chat history\n",
    "\n",
    "    # Hook up the user input and response to the chat interface\n",
    "    msg.submit(respond, [msg, history_state], [msg, chatbot, history_state])\n",
    "    \n",
    "    # Clear button resets the chatbot and history state\n",
    "    clear.click(lambda: ([], []), None, [chatbot, history_state], queue=False)\n",
    "\n",
    "    # Initialize the chatbot with the intro message\n",
    "    demo.load(init_chat, inputs=None, outputs=[history_state, chatbot])\n",
    "\n",
    "demo.launch()"
   ]
  },
  {
   "cell_type": "code",
   "execution_count": null,
   "id": "00c67a95-471a-4662-b98d-2f6188800935",
   "metadata": {},
   "outputs": [],
   "source": []
  }
 ],
 "metadata": {
  "kernelspec": {
   "display_name": "Python 3 (ipykernel)",
   "language": "python",
   "name": "python3"
  },
  "language_info": {
   "codemirror_mode": {
    "name": "ipython",
    "version": 3
   },
   "file_extension": ".py",
   "mimetype": "text/x-python",
   "name": "python",
   "nbconvert_exporter": "python",
   "pygments_lexer": "ipython3",
   "version": "3.11.3"
  }
 },
 "nbformat": 4,
 "nbformat_minor": 5
}
