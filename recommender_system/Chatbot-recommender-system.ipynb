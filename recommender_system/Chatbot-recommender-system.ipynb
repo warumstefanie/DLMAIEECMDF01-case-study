{
 "cells": [
  {
   "cell_type": "markdown",
   "id": "b41fc748-5a60-4436-b8ff-17b52ad63acc",
   "metadata": {},
   "source": [
    "# Case Study: Virtual Assistant for IlluminatiMart"
   ]
  },
  {
   "cell_type": "markdown",
   "id": "98c3d8a7-dd3d-46c6-b1d8-4364f77bac50",
   "metadata": {},
   "source": [
    "This Jupyter Notebook demonstrates the implementation of the IlluminatiMart recommender system, designed for IlluminatiMart, an AI-driven online grocery platform. The recommender system aims to enhance the customer shopping experience by delivering personalized product suggestions. It analyzes customer preferences and previous shopping behavior to provide relevant recommendations, helping users discover products tailored to their needs. This notebook outlines the system’s development process, including the integration of advanced algorithms and data processing techniques to ensure accurate, context-aware recommendations."
   ]
  },
  {
   "cell_type": "code",
   "execution_count": 5,
   "id": "af92f20f-9176-4a10-93ad-a79b94e67269",
   "metadata": {},
   "outputs": [
    {
     "name": "stderr",
     "output_type": "stream",
     "text": [
      "/Library/Frameworks/Python.framework/Versions/3.11/lib/python3.11/site-packages/gradio/components/chatbot.py:242: UserWarning: You have not specified a value for the `type` parameter. Defaulting to the 'tuples' format for chatbot messages, but this is deprecated and will be removed in a future version of Gradio. Please set type='messages' instead, which uses openai-style dictionaries with 'role' and 'content' keys.\n",
      "  warnings.warn(\n"
     ]
    },
    {
     "name": "stdout",
     "output_type": "stream",
     "text": [
      "* Running on local URL:  http://127.0.0.1:7867\n",
      "* Running on public URL: https://0dafa027fcfdbf83f9.gradio.live\n",
      "\n",
      "This share link expires in 72 hours. For free permanent hosting and GPU upgrades, run `gradio deploy` from the terminal in the working directory to deploy to Hugging Face Spaces (https://huggingface.co/spaces)\n"
     ]
    },
    {
     "data": {
      "text/html": [
       "<div><iframe src=\"https://0dafa027fcfdbf83f9.gradio.live\" width=\"100%\" height=\"500\" allow=\"autoplay; camera; microphone; clipboard-read; clipboard-write;\" frameborder=\"0\" allowfullscreen></iframe></div>"
      ],
      "text/plain": [
       "<IPython.core.display.HTML object>"
      ]
     },
     "metadata": {},
     "output_type": "display_data"
    },
    {
     "data": {
      "text/plain": []
     },
     "execution_count": 5,
     "metadata": {},
     "output_type": "execute_result"
    }
   ],
   "source": [
    "import os\n",
    "from openai import OpenAI\n",
    "import numpy as np\n",
    "from scipy.spatial import distance\n",
    "import gradio as gr\n",
    "from functions import create_embeddings, find_n_closest, create_product_text, recommend_products_chatbot\n",
    "from products import products  # List of all products\n",
    "\n",
    "client = OpenAI(api_key=os.environ[\"OPENAI\"])\n",
    "\n",
    "# Initialize user history\n",
    "user_history = []\n",
    "\n",
    "# Define the chatbot response function\n",
    "def chatbot_respond(message, chat_history):\n",
    "    global user_history\n",
    "    user_history.append({\"title\": message, \"short_description\": \"\", \"category\": \"\", \"features\": []})\n",
    "    recommendations = recommend_products_chatbot(user_history, products)\n",
    "    \n",
    "    if recommendations is None:\n",
    "        recommendations = []\n",
    "    \n",
    "    response = \"Recommended Products:\\n\" + \"\\n\".join([f\"Product: {title}, Distance: {dist:.2f}\" for title, dist in recommendations])\n",
    "    \n",
    "    # Append messages as tuples\n",
    "    chat_history.append((message, response))\n",
    "    \n",
    "    return \"\", chat_history\n",
    "\n",
    "# Create the Gradio interface\n",
    "with gr.Blocks() as demo:\n",
    "    chatbot = gr.Chatbot()\n",
    "    msg = gr.Textbox(placeholder=\"Type your preferences here...\")\n",
    "    clear = gr.Button(\"Clear\")\n",
    "\n",
    "    msg.submit(chatbot_respond, [msg, chatbot], [msg, chatbot])\n",
    "    clear.click(lambda: None, None, chatbot, queue=False)\n",
    "\n",
    "# Launch the interface\n",
    "demo.launch(share=True)"
   ]
  }
 ],
 "metadata": {
  "kernelspec": {
   "display_name": "Python 3 (ipykernel)",
   "language": "python",
   "name": "python3"
  },
  "language_info": {
   "codemirror_mode": {
    "name": "ipython",
    "version": 3
   },
   "file_extension": ".py",
   "mimetype": "text/x-python",
   "name": "python",
   "nbconvert_exporter": "python",
   "pygments_lexer": "ipython3",
   "version": "3.11.3"
  }
 },
 "nbformat": 4,
 "nbformat_minor": 5
}
